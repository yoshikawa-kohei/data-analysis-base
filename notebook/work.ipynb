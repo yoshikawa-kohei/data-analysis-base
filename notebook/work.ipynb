{
 "cells": [
  {
   "cell_type": "code",
   "execution_count": 1,
   "metadata": {},
   "outputs": [],
   "source": [
    "import pickle\n",
    "from pathlib import Path, PosixPath\n",
    "import sys, os\n",
    "sys.path.append(os.path.dirname(Path().resolve()))\n",
    "\n",
    "from pipelines.features.core.standardization import Standardization\n",
    "\n",
    "resources_path: PosixPath = Path().resolve() / \"../resources\""
   ]
  },
  {
   "cell_type": "code",
   "execution_count": 2,
   "metadata": {},
   "outputs": [
    {
     "name": "stdout",
     "output_type": "stream",
     "text": [
      "[PosixPath('/Users/ykohei/workspace/data-analysis-base/notebook/../resources/BuildFeatures_ebe338448fbf8d070cc6df8b685aecec.pkl'), PosixPath('/Users/ykohei/workspace/data-analysis-base/notebook/../resources/TrainFeatureModel_a20e5eba62dd1353f8fd57d51dc9eaca.pkl'), PosixPath('/Users/ykohei/workspace/data-analysis-base/notebook/../resources/BuildFeatures_76183939b922f077504ff10cb35deb66.pkl'), PosixPath('/Users/ykohei/workspace/data-analysis-base/notebook/../resources/BuildDataset.pkl'), PosixPath('/Users/ykohei/workspace/data-analysis-base/notebook/../resources/TrainFeatureModel_f0e08738a0e15e09bf8b89f214e8202f.pkl'), PosixPath('/Users/ykohei/workspace/data-analysis-base/notebook/../resources/MainWorkflow.pkl')]\n"
     ]
    }
   ],
   "source": [
    "file_paths = resources_path.glob(\"*\")\n",
    "print(list(file_paths))"
   ]
  },
  {
   "cell_type": "code",
   "execution_count": 3,
   "metadata": {},
   "outputs": [
    {
     "name": "stdout",
     "output_type": "stream",
     "text": [
      "----------\n",
      "     sepal length (cm)\n",
      "0            -0.900681\n",
      "1            -1.143017\n",
      "2            -1.385353\n",
      "3            -1.506521\n",
      "4            -1.021849\n",
      "..                 ...\n",
      "145           1.038005\n",
      "146           0.553333\n",
      "147           0.795669\n",
      "148           0.432165\n",
      "149           0.068662\n",
      "\n",
      "[150 rows x 1 columns]\n",
      "----------\n",
      "<pipelines.features.core.standardization.Standardization object at 0x107c9cd60>\n",
      "----------\n",
      "     sepal width (cm)\n",
      "0            1.019004\n",
      "1           -0.131979\n",
      "2            0.328414\n",
      "3            0.098217\n",
      "4            1.249201\n",
      "..                ...\n",
      "145         -0.131979\n",
      "146         -1.282963\n",
      "147         -0.131979\n",
      "148          0.788808\n",
      "149         -0.131979\n",
      "\n",
      "[150 rows x 1 columns]\n",
      "----------\n",
      "     target  sepal length (cm)  sepal width (cm)  petal length (cm)  \\\n",
      "0         0                5.1               3.5                1.4   \n",
      "1         0                4.9               3.0                1.4   \n",
      "2         0                4.7               3.2                1.3   \n",
      "3         0                4.6               3.1                1.5   \n",
      "4         0                5.0               3.6                1.4   \n",
      "..      ...                ...               ...                ...   \n",
      "145       2                6.7               3.0                5.2   \n",
      "146       2                6.3               2.5                5.0   \n",
      "147       2                6.5               3.0                5.2   \n",
      "148       2                6.2               3.4                5.4   \n",
      "149       2                5.9               3.0                5.1   \n",
      "\n",
      "     petal width (cm)  \n",
      "0                 0.2  \n",
      "1                 0.2  \n",
      "2                 0.2  \n",
      "3                 0.2  \n",
      "4                 0.2  \n",
      "..                ...  \n",
      "145               2.3  \n",
      "146               1.9  \n",
      "147               2.0  \n",
      "148               2.3  \n",
      "149               1.8  \n",
      "\n",
      "[150 rows x 5 columns]\n",
      "----------\n",
      "<pipelines.features.core.standardization.Standardization object at 0x107cfd160>\n",
      "----------\n",
      "     sepal length (cm)\n",
      "0            -0.900681\n",
      "1            -1.143017\n",
      "2            -1.385353\n",
      "3            -1.506521\n",
      "4            -1.021849\n",
      "..                 ...\n",
      "145           1.038005\n",
      "146           0.553333\n",
      "147           0.795669\n",
      "148           0.432165\n",
      "149           0.068662\n",
      "\n",
      "[150 rows x 1 columns]\n"
     ]
    }
   ],
   "source": [
    "# check pickled all data\n",
    "file_paths = resources_path.glob(\"*\")\n",
    "for path in file_paths:\n",
    "    with open(path, mode=\"rb\") as file:\n",
    "        print(\"-\"*10)\n",
    "        input = pickle.load(file)\n",
    "        print(input)"
   ]
  },
  {
   "cell_type": "code",
   "execution_count": 4,
   "metadata": {},
   "outputs": [
    {
     "data": {
      "text/plain": [
       "0     -0.900681\n",
       "1     -1.143017\n",
       "2     -1.385353\n",
       "3     -1.506521\n",
       "4     -1.021849\n",
       "         ...   \n",
       "145    1.038005\n",
       "146    0.553333\n",
       "147    0.795669\n",
       "148    0.432165\n",
       "149    0.068662\n",
       "Name: sepal length (cm), Length: 150, dtype: float64"
      ]
     },
     "execution_count": 4,
     "metadata": {},
     "output_type": "execute_result"
    }
   ],
   "source": [
    "input[\"sepal length (cm)\"]"
   ]
  },
  {
   "cell_type": "code",
   "execution_count": null,
   "metadata": {},
   "outputs": [],
   "source": []
  }
 ],
 "metadata": {
  "interpreter": {
   "hash": "eb7a4994c044e2cef26acbf5ec5966ab4e6b8aac68487f291c67d43e8eaa2f71"
  },
  "kernelspec": {
   "display_name": "Python 3.9.6 64-bit ('keiba-ai': conda)",
   "language": "python",
   "name": "python3"
  },
  "language_info": {
   "codemirror_mode": {
    "name": "ipython",
    "version": 3
   },
   "file_extension": ".py",
   "mimetype": "text/x-python",
   "name": "python",
   "nbconvert_exporter": "python",
   "pygments_lexer": "ipython3",
   "version": "3.9.6"
  },
  "orig_nbformat": 4
 },
 "nbformat": 4,
 "nbformat_minor": 2
}
